{
 "cells": [
  {
   "cell_type": "code",
   "execution_count": 1,
   "metadata": {
    "collapsed": true
   },
   "outputs": [],
   "source": [
    "import numpy as np\n",
    "import matplotlib.pyplot as plt\n",
    "%matplotlib inline"
   ]
  },
  {
   "cell_type": "markdown",
   "metadata": {},
   "source": [
    "# Approximation Experiemnts"
   ]
  },
  {
   "cell_type": "markdown",
   "metadata": {},
   "source": [
    "## Tree"
   ]
  },
  {
   "cell_type": "code",
   "execution_count": 6,
   "metadata": {
    "collapsed": true
   },
   "outputs": [],
   "source": [
    "# python3 evaluation.py --evaluation=synthetic --repeats=1 --mode=tree --n=20 --m=10 --h=5 --r=2"
   ]
  },
  {
   "cell_type": "code",
   "execution_count": 16,
   "metadata": {},
   "outputs": [
    {
     "data": {
      "text/plain": [
       "array([array({'random': [60, 8.0, 4.814444444444445], 'cycle': [60, 104.0, 8.014505559298733], 'vertices': [60, 1, 1.0], 'bipartite': [120, 16.0, 5.3240393518518525], 'grids': [49, 48.0, 8.563340220795448], 'binarytree': [63, 47.0, 5.775704167616488]},\n",
       "      dtype=object),\n",
       "       array({'random': [60, 7.2, 4.645027777777777], 'cycle': [60, 40.7, 7.937966496123873], 'vertices': [60, 1, 1.0], 'bipartite': [120, 16.7, 6.317164351851851], 'grids': [49, 42.9, 9.353373657440713], 'binarytree': [63, 29.1, 5.794990621763108]},\n",
       "      dtype=object),\n",
       "       array({'random': [60, 6.38, 4.6865000000000006], 'cycle': [60, 26.25, 7.843098729772606], 'vertices': [60, 1, 1.0], 'bipartite': [120, 15.64, 6.389570717592592], 'grids': [49, 40.28, 9.29100794552294], 'binarytree': [63, 21.2, 5.763065319719892]},\n",
       "      dtype=object)], dtype=object)"
      ]
     },
     "execution_count": 16,
     "metadata": {},
     "output_type": "execute_result"
    }
   ],
   "source": [
    "np.load('approx_result_tree.npy')"
   ]
  },
  {
   "cell_type": "code",
   "execution_count": 17,
   "metadata": {},
   "outputs": [
    {
     "data": {
      "text/plain": [
       "array([array({'random': [60, 8.0, 4.983333333333333], 'cycle': [60, 108.0, 7.7226982041049235], 'vertices': [60, 1, 1.0], 'bipartite': [120, 20.0, 7.323819444444444], 'grids': [49, 47.0, 9.205923728268585], 'binarytree': [63, 46.0, 6.162143916943615]},\n",
       "      dtype=object),\n",
       "       array({'random': [60, 7.545454545454546, 4.627878787878788], 'cycle': [60, 44.36363636363637, 7.965443724552864], 'vertices': [60, 1, 1.0], 'bipartite': [120, 17.272727272727273, 6.308429082491582], 'grids': [49, 46.90909090909091, 9.41243759774107], 'binarytree': [63, 27.272727272727273, 5.701778174794048]},\n",
       "      dtype=object),\n",
       "       array({'random': [60, 6.9523809523809526, 4.760767195767196], 'cycle': [60, 35.142857142857146, 7.9271156280655894], 'vertices': [60, 1, 1.0], 'bipartite': [120, 16.80952380952381, 6.505308090828924], 'grids': [49, 46.904761904761905, 9.631687421349467], 'binarytree': [63, 22.38095238095238, 5.73736927933739]},\n",
       "      dtype=object),\n",
       "       array({'random': [60, 6.806451612903226, 4.672078853046595], 'cycle': [60, 30.774193548387096, 7.948363969552467], 'vertices': [60, 1, 1.0], 'bipartite': [120, 17.06451612903226, 6.657768070489845], 'grids': [49, 38.54838709677419, 9.252602989960408], 'binarytree': [63, 22.0, 5.6686535447464905]},\n",
       "      dtype=object),\n",
       "       array({'random': [60, 6.682926829268292, 4.748252032520325], 'cycle': [60, 36.5609756097561, 7.984627483125917], 'vertices': [60, 1, 1.0], 'bipartite': [120, 16.365853658536587, 6.495526761517614], 'grids': [49, 41.829268292682926, 9.31937350333547], 'binarytree': [63, 21.21951219512195, 5.701969044453789]},\n",
       "      dtype=object),\n",
       "       array({'random': [60, 6.568627450980392, 4.708763616557734], 'cycle': [60, 29.58823529411765, 7.934507579979889], 'vertices': [60, 1, 1.0], 'bipartite': [120, 15.96078431372549, 6.357046568627451], 'grids': [49, 39.666666666666664, 9.408535719850857], 'binarytree': [63, 22.764705882352942, 5.760504930955333]},\n",
       "      dtype=object),\n",
       "       array({'random': [60, 6.655737704918033, 4.7082468123861565], 'cycle': [60, 28.229508196721312, 7.90427313812559], 'vertices': [60, 1, 1.0], 'bipartite': [120, 16.065573770491802, 6.443606747115969], 'grids': [49, 40.885245901639344, 9.421778195896561], 'binarytree': [63, 20.21311475409836, 5.6796607155887475]},\n",
       "      dtype=object),\n",
       "       array({'random': [60, 6.788732394366197, 4.713509389671361], 'cycle': [60, 27.225352112676056, 7.8527768174532095], 'vertices': [60, 1, 1.0], 'bipartite': [120, 16.154929577464788, 6.489275723787167], 'grids': [49, 42.0, 9.476709481750516], 'binarytree': [63, 22.746478873239436, 5.734437660931013]},\n",
       "      dtype=object),\n",
       "       array({'random': [60, 6.617283950617284, 4.729879972565157], 'cycle': [60, 27.74074074074074, 7.819762408825919], 'vertices': [60, 1, 1.0], 'bipartite': [120, 16.28395061728395, 6.504020633287609], 'grids': [49, 41.629629629629626, 9.405278955237305], 'binarytree': [63, 22.14814814814815, 5.808523227262905]},\n",
       "      dtype=object),\n",
       "       array({'random': [60, 6.65934065934066, 4.750268620268621], 'cycle': [60, 28.615384615384617, 7.967532529628265], 'vertices': [60, 1, 1.0], 'bipartite': [120, 15.571428571428571, 6.2980486874236865], 'grids': [49, 40.494505494505496, 9.40705284646797], 'binarytree': [63, 21.01098901098901, 5.636367532134728]},\n",
       "      dtype=object)], dtype=object)"
      ]
     },
     "execution_count": 17,
     "metadata": {},
     "output_type": "execute_result"
    }
   ],
   "source": [
    "np.load('approx_result_tree_more.npy')"
   ]
  },
  {
   "cell_type": "code",
   "execution_count": 35,
   "metadata": {},
   "outputs": [],
   "source": [
    "t = np.load('runtime_result_tree.npy')"
   ]
  },
  {
   "cell_type": "code",
   "execution_count": 59,
   "metadata": {},
   "outputs": [
    {
     "data": {
      "image/png": "[encoded data removed]",
      "text/plain": [
       "<matplotlib.figure.Figure at 0x121633e80>"
      ]
     },
     "metadata": {},
     "output_type": "display_data"
    }
   ],
   "source": [
    "plt.figure()\n",
    "plt.plot( t[:, 0],  t[:,1])\n",
    "plt.plot( t[:, 0],  t[:, 0]**2.4 / 1000000, color = 'y')\n",
    "plt.xlabel('n')\n",
    "plt.ylabel('seconds')\n",
    "plt.savefig('runtime_tree.pdf')"
   ]
  },
  {
   "cell_type": "code",
   "execution_count": 60,
   "metadata": {},
   "outputs": [
    {
     "data": {
      "text/plain": [
       "array({'email': [1005, 26.0, 7.252902957376112]}, dtype=object)"
      ]
     },
     "execution_count": 60,
     "metadata": {},
     "output_type": "execute_result"
    }
   ],
   "source": [
    "np.load('approx_result_tree_real.npy')"
   ]
  },
  {
   "cell_type": "code",
   "execution_count": null,
   "metadata": {
    "collapsed": true
   },
   "outputs": [],
   "source": []
  }
 ],
 "metadata": {
  "kernelspec": {
   "display_name": "Python 3",
   "language": "python",
   "name": "python3"
  },
  "language_info": {
   "codemirror_mode": {
    "name": "ipython",
    "version": 3
   },
   "file_extension": ".py",
   "mimetype": "text/x-python",
   "name": "python",
   "nbconvert_exporter": "python",
   "pygments_lexer": "ipython3",
   "version": "3.6.3"
  }
 },
 "nbformat": 4,
 "nbformat_minor": 2
}
